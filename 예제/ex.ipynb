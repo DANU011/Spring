{
 "cells": [
  {
   "cell_type": "code",
   "execution_count": null,
   "metadata": {
    "collapsed": true
   },
   "outputs": [],
   "source": [
    "import pandas as pd\n",
    "import numpy as np\n",
    "import matplotlib.pyplot as plt\n",
    "from scipy import signal\n",
    "\n",
    "# 데이터셋 로드\n",
    "train = pd.read_csv('train.csv')\n",
    "test = pd.read_csv('test.csv')\n",
    "\n",
    "# 가속도계 데이터 추출\n",
    "X_train = train.iloc[:, 0:561].values\n",
    "X_test = test.iloc[:, 0:561].values\n",
    "\n",
    "# 가속도계 데이터 전처리\n",
    "X_train = X_train.reshape(X_train.shape[0], 561, 1)\n",
    "X_test = X_test.reshape(X_test.shape[0], 561, 1)\n",
    "\n",
    "# 필터링\n",
    "fs = 50  # 샘플링 주파수\n",
    "f_low = 0.3  # 저주파 컷오프 주파수\n",
    "f_high = 3  # 고주파 컷오프 주파수\n",
    "nyq = 0.5 * fs  # 나이퀴스트 주파수\n",
    "Wn = [f_low / nyq, f_high / nyq]  # 컷오프 주파수 비율\n",
    "b, a = signal.butter(4, Wn, 'bandpass')  # 필터 계수 계산\n",
    "X_train_filt = signal.filtfilt(b, a, X_train, axis=1)  # 필터링\n",
    "\n",
    "# 피크 검출\n",
    "peaks, _ = signal.find_peaks(X_train_filt[:, :, 0], height=2)\n",
    "\n",
    "# 결과 시각화\n",
    "plt.figure(figsize=(16, 6))\n",
    "plt.plot(X_train_filt[0][:, 0], label='Filtered')\n",
    "plt.plot(peaks, X_train_filt[0][peaks, 0], 'x', label='Peaks')\n",
    "plt.legend()\n",
    "plt.show()\n"
   ]
  }
 ],
 "metadata": {
  "kernelspec": {
   "display_name": "Python 3",
   "language": "python",
   "name": "python3"
  },
  "language_info": {
   "codemirror_mode": {
    "name": "ipython",
    "version": 2
   },
   "file_extension": ".py",
   "mimetype": "text/x-python",
   "name": "python",
   "nbconvert_exporter": "python",
   "pygments_lexer": "ipython2",
   "version": "2.7.6"
  }
 },
 "nbformat": 4,
 "nbformat_minor": 0
}
