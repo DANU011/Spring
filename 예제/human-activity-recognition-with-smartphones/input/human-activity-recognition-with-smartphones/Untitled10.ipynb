{
 "nbformat": 4,
 "nbformat_minor": 0,
 "metadata": {
  "colab": {
   "provenance": []
  },
  "kernelspec": {
   "name": "python3",
   "language": "python",
   "display_name": "Python 3 (ipykernel)"
  },
  "language_info": {
   "name": "python"
  }
 },
 "cells": [
  {
   "cell_type": "code",
   "execution_count": 1,
   "metadata": {
    "id": "CskLHP3wFRCk",
    "ExecuteTime": {
     "end_time": "2023-05-01T06:53:48.266124700Z",
     "start_time": "2023-05-01T06:53:48.094208100Z"
    }
   },
   "outputs": [],
   "source": [
    "import pandas as pd\n",
    "import xgboost as xgb\n",
    "from sklearn.preprocessing import OneHotEncoder\n",
    "from sklearn.preprocessing import StandardScaler\n",
    "from sklearn.model_selection import train_test_split\n",
    "from sklearn.metrics import accuracy_score\n"
   ]
  },
  {
   "cell_type": "code",
   "source": [
    "# 1. 데이터 로드 및 전처리\n",
    "data = pd.read_csv('train.csv')\n",
    "X = data.drop(['Activity', 'subject'], axis=1)\n",
    "y = pd.get_dummies(data['Activity'])\n",
    "X_train, X_val, y_train, y_val = train_test_split(X, y, test_size=0.3)\n",
    "scaler = StandardScaler()\n",
    "X_train = scaler.fit_transform(X_train)\n",
    "X_val = scaler.transform(X_val)\n",
    "\n"
   ],
   "metadata": {
    "colab": {
     "base_uri": "https://localhost:8080/",
     "height": 400
    },
    "id": "rW2eZDsVFUpQ",
    "outputId": "c3317ad1-3498-405b-d848-22ccaffa32fd",
    "ExecuteTime": {
     "end_time": "2023-05-01T06:53:56.951962600Z",
     "start_time": "2023-05-01T06:53:56.156192Z"
    }
   },
   "execution_count": 3,
   "outputs": []
  },
  {
   "cell_type": "code",
   "source": [
    "# 2. XGBoost 모델 훈련\n",
    "model = xgb.XGBClassifier()\n",
    "model.fit(X_train, y_train)\n",
    "y_pred = model.predict(X_val)\n",
    "print(\"Validation Accuracy:\", accuracy_score(y_val, y_pred))\n",
    "\n"
   ],
   "metadata": {
    "id": "a0FeWEVPFUx_",
    "ExecuteTime": {
     "end_time": "2023-05-01T06:54:15.020156600Z",
     "start_time": "2023-05-01T06:54:02.905378400Z"
    }
   },
   "execution_count": 4,
   "outputs": [
    {
     "name": "stdout",
     "output_type": "stream",
     "text": [
      "Validation Accuracy: 0.9750679963735267\n"
     ]
    }
   ]
  },
  {
   "cell_type": "code",
   "source": [
    "# 3. 모델 평가 및 예측\n",
    "test_data = pd.read_csv('test.csv')\n",
    "X_test = test_data.drop(['Activity', 'subject'], axis=1)\n",
    "y_test = pd.get_dummies(test_data['Activity'])\n",
    "X_test = scaler.transform(X_test)\n",
    "y_pred = model.predict(X_test)\n",
    "print(\"Test Accuracy:\", accuracy_score(y_test, y_pred))"
   ],
   "metadata": {
    "id": "GXs3z7jRFU3n",
    "ExecuteTime": {
     "end_time": "2023-05-01T06:54:15.285719200Z",
     "start_time": "2023-05-01T06:54:15.020156600Z"
    }
   },
   "execution_count": 5,
   "outputs": [
    {
     "name": "stdout",
     "output_type": "stream",
     "text": [
      "Test Accuracy: 0.8934509670851714\n"
     ]
    }
   ]
  },
  {
   "cell_type": "markdown",
   "source": [
    "모델의 예측 결과인 y_pred를 기반으로 패턴 밖의 데이터가 들어왔을 때 알림\n",
    "\n",
    "새로운 데이터를 로드하고 전처리. 이전에 StandardScaler를 사용하여 데이터를 스케일링한 것과 같은 방법으로 스케일링을 해야함.\n",
    "\n",
    "model.predict() 함수를 사용하여 새로운 데이터의 예측값을 계산.\n",
    "\n",
    "예측값이 이전에 학습한 클래스 레이블 중 어느 하나와 다르다면, 패턴 밖의 데이터가 들어왔다는 것. 이때 알림을 보내도록 코드를 작성."
   ],
   "metadata": {
    "collapsed": false
   }
  },
  {
   "cell_type": "code",
   "execution_count": null,
   "outputs": [],
   "source": [
    "new_data = pd.read_csv('new_data.csv')  # 새로운 데이터를 로드합니다.\n",
    "new_data = scaler.transform(new_data.drop(['Activity', 'subject'], axis=1))  # 이전에 사용한 스케일러를 사용하여 데이터를 스케일링합니다.\n",
    "y_new_pred = model.predict(new_data)  # 새로운 데이터의 예측값을 계산합니다.\n",
    "\n",
    "if not any((y_new_pred == y_train).all(axis=1)):  # 예측값이 이전에 학습한 클래스 레이블 중 어느 하나와 다르다면\n",
    "    send_alert()  # 알림을 보냅니다.\n"
   ],
   "metadata": {
    "collapsed": false
   }
  },
  {
   "cell_type": "code",
   "execution_count": null,
   "outputs": [],
   "source": [
    "import pandas as pd\n",
    "import xgboost as xgb\n",
    "from sklearn.preprocessing import StandardScaler\n",
    "from sklearn.model_selection import train_test_split\n",
    "from sklearn.metrics import accuracy_score\n",
    "import numpy as np\n",
    "\n",
    "# 1. 데이터 로드 및 전처리\n",
    "data = pd.read_csv('train.csv')\n",
    "X = data.drop(['Activity', 'subject'], axis=1)\n",
    "y = pd.get_dummies(data['Activity'])\n",
    "X_train, X_val, y_train, y_val = train_test_split(X, y, test_size=0.3)\n",
    "scaler = StandardScaler()\n",
    "X_train = scaler.fit_transform(X_train)\n",
    "X_val = scaler.transform(X_val)\n",
    "\n",
    "# 2. XGBoost 모델 훈련\n",
    "model = xgb.XGBClassifier()\n",
    "model.fit(X_train, y_train)\n",
    "\n",
    "# 3. 모델 평가 및 예측\n",
    "test_data = pd.read_csv('test.csv')\n",
    "X_test = test_data.drop(['Activity', 'subject'], axis=1)\n",
    "y_test = pd.get_dummies(test_data['Activity'])\n",
    "X_test = scaler.transform(X_test)\n",
    "y_pred = model.predict(X_test)\n",
    "\n",
    "# 4. 모델 예측 결과 평가\n",
    "accuracy = accuracy_score(y_test, y_pred)\n",
    "print(\"Test Accuracy:\", accuracy)\n",
    "\n",
    "# 5. 패턴 밖의 데이터 예측\n",
    "new_data = pd.read_csv('new_data.csv')\n",
    "X_new = new_data.drop(['Activity', 'subject'], axis=1)\n",
    "y_new = pd.get_dummies(new_data['Activity'])\n",
    "X_new = scaler.transform(X_new)\n",
    "y_pred_new = model.predict(X_new)\n",
    "\n",
    "# 6. 패턴 밖의 데이터 예측 결과 평가 및 알림\n",
    "accuracy_new = accuracy_score(y_new, y_pred_new)\n",
    "print(\"New Data Accuracy:\", accuracy_new)\n",
    "\n",
    "threshold = 0.05  # 일정 오차 범위 설정\n",
    "diff = np.abs(y_new.values.argmax(axis=1) - y_pred_new.argmax(axis=1))\n",
    "if np.max(diff) <= threshold:\n",
    "    print(\"예측 결과가 정확합니다.\")\n",
    "else:\n",
    "    print(\"경고: 예측 결과가 오차 범위를 초과합니다!\")\n"
   ],
   "metadata": {
    "collapsed": false
   }
  }
 ]
}
