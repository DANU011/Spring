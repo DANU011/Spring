{
 "cells": [
  {
   "cell_type": "markdown",
   "source": [
    "플라스크에서 스프링부트 쪽에 연결된 데이터베이스의 데이터를 가져오는 방법\n",
    "\n",
    "1. requests 모듈을 사용하여 스프링부트 쪽 API에 HTTP 요청"
   ],
   "metadata": {
    "collapsed": false
   }
  },
  {
   "cell_type": "code",
   "execution_count": 1,
   "outputs": [
    {
     "ename": "ModuleNotFoundError",
     "evalue": "No module named 'requests'",
     "output_type": "error",
     "traceback": [
      "\u001B[1;31m---------------------------------------------------------------------------\u001B[0m",
      "\u001B[1;31mModuleNotFoundError\u001B[0m                       Traceback (most recent call last)",
      "Cell \u001B[1;32mIn[1], line 1\u001B[0m\n\u001B[1;32m----> 1\u001B[0m \u001B[38;5;28;01mimport\u001B[39;00m \u001B[38;5;21;01mrequests\u001B[39;00m\n\u001B[0;32m      3\u001B[0m response \u001B[38;5;241m=\u001B[39m requests\u001B[38;5;241m.\u001B[39mget(\u001B[38;5;124m'\u001B[39m\u001B[38;5;124mhttp://localhost:8080/my-api\u001B[39m\u001B[38;5;124m'\u001B[39m)\n\u001B[0;32m      4\u001B[0m data \u001B[38;5;241m=\u001B[39m response\u001B[38;5;241m.\u001B[39mjson()\n",
      "\u001B[1;31mModuleNotFoundError\u001B[0m: No module named 'requests'"
     ]
    }
   ],
   "source": [
    "import requests\n",
    "\n",
    "response = requests.get('http://localhost:8080/my-api')\n",
    "data = response.json()"
   ],
   "metadata": {
    "collapsed": false,
    "ExecuteTime": {
     "end_time": "2023-05-02T01:56:41.452116600Z",
     "start_time": "2023-05-02T01:56:41.192809200Z"
    }
   }
  },
  {
   "cell_type": "markdown",
   "source": [
    "requests.get() 함수를 사용하여 http://localhost:8080/my-api URL에 GET 요청 전송. 이후 response.json() 함수를 사용하여 JSON 형태의 응답 데이터를 파싱하여 data 변수에 저장.\n",
    "\n",
    "가져온 데이터를 플라스크 애플리케이션에서 사용."
   ],
   "metadata": {
    "collapsed": false
   }
  },
  {
   "cell_type": "code",
   "execution_count": 2,
   "outputs": [
    {
     "ename": "NameError",
     "evalue": "name 'app' is not defined",
     "output_type": "error",
     "traceback": [
      "\u001B[1;31m---------------------------------------------------------------------------\u001B[0m",
      "\u001B[1;31mNameError\u001B[0m                                 Traceback (most recent call last)",
      "Cell \u001B[1;32mIn[2], line 1\u001B[0m\n\u001B[1;32m----> 1\u001B[0m \u001B[38;5;129m@app\u001B[39m\u001B[38;5;241m.\u001B[39mroute(\u001B[38;5;124m'\u001B[39m\u001B[38;5;124m/\u001B[39m\u001B[38;5;124m'\u001B[39m)\n\u001B[0;32m      2\u001B[0m \u001B[38;5;28;01mdef\u001B[39;00m \u001B[38;5;21mindex\u001B[39m():\n\u001B[0;32m      3\u001B[0m     response \u001B[38;5;241m=\u001B[39m requests\u001B[38;5;241m.\u001B[39mget(\u001B[38;5;124m'\u001B[39m\u001B[38;5;124mhttp://localhost:8080/my-api\u001B[39m\u001B[38;5;124m'\u001B[39m)\n\u001B[0;32m      4\u001B[0m     data \u001B[38;5;241m=\u001B[39m response\u001B[38;5;241m.\u001B[39mjson()\n",
      "\u001B[1;31mNameError\u001B[0m: name 'app' is not defined"
     ]
    }
   ],
   "source": [
    "@app.route('/')\n",
    "def index():\n",
    "    response = requests.get('http://localhost:8080/my-api')\n",
    "    data = response.json()\n",
    "\n",
    "    # 가져온 데이터를 사용하여 HTML 페이지를 렌더링합니다.\n",
    "    return render_template('index.html', data=data)"
   ],
   "metadata": {
    "collapsed": false,
    "ExecuteTime": {
     "end_time": "2023-05-02T01:57:14.798392900Z",
     "start_time": "2023-05-02T01:57:14.735894100Z"
    }
   }
  },
  {
   "cell_type": "markdown",
   "source": [
    "Flask 애플리케이션의 라우트 함수에서 requests.get() 함수를 사용하여 스프링부트 쪽 API에 GET 요청.\n",
    "\n",
    "이후 data 변수에 응답 데이터를 저장하고, 이를 HTML 페이지에서 사용하여 렌더링.\n",
    "\n",
    "* 스프링부트 쪽에서 RESTful API를 구현하고, Flask 쪽에서 requests 모듈 대신 flask-restful 모듈을 사용하여 API를 호출할 수도 있다."
   ],
   "metadata": {
    "collapsed": false
   }
  },
  {
   "cell_type": "code",
   "execution_count": null,
   "outputs": [],
   "source": [],
   "metadata": {
    "collapsed": false
   }
  }
 ],
 "metadata": {
  "kernelspec": {
   "display_name": "Python 3",
   "language": "python",
   "name": "python3"
  },
  "language_info": {
   "codemirror_mode": {
    "name": "ipython",
    "version": 2
   },
   "file_extension": ".py",
   "mimetype": "text/x-python",
   "name": "python",
   "nbconvert_exporter": "python",
   "pygments_lexer": "ipython2",
   "version": "2.7.6"
  }
 },
 "nbformat": 4,
 "nbformat_minor": 0
}
