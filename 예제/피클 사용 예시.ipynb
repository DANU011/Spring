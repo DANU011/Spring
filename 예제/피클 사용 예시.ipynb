{
 "cells": [
  {
   "cell_type": "markdown",
   "source": [
    "파이썬에서 학습한 모델을 피클(pickle) 파일로 저장하는 방법\n",
    "\n",
    "1. pickle 모듈을 임포트."
   ],
   "metadata": {
    "collapsed": false
   }
  },
  {
   "cell_type": "code",
   "execution_count": 1,
   "outputs": [],
   "source": [
    "import pickle"
   ],
   "metadata": {
    "collapsed": false,
    "ExecuteTime": {
     "end_time": "2023-05-02T01:47:26.748874800Z",
     "start_time": "2023-05-02T01:47:26.748874800Z"
    }
   }
  },
  {
   "cell_type": "markdown",
   "source": [
    "모델 객체를 생성"
   ],
   "metadata": {
    "collapsed": false
   }
  },
  {
   "cell_type": "code",
   "execution_count": 2,
   "outputs": [],
   "source": [
    "model = ... # 학습한 모델 객체"
   ],
   "metadata": {
    "collapsed": false,
    "ExecuteTime": {
     "end_time": "2023-05-02T01:47:39.744441800Z",
     "start_time": "2023-05-02T01:47:39.744441800Z"
    }
   }
  },
  {
   "cell_type": "markdown",
   "source": [
    "pickle.dump() 함수를 사용하여 모델 객체를 파일로 저장합니다. 첫 번째 매개변수로 모델 객체를 전달하고, 두 번째 매개변수로 파일 객체를 전달"
   ],
   "metadata": {
    "collapsed": false
   }
  },
  {
   "cell_type": "code",
   "execution_count": 3,
   "outputs": [],
   "source": [
    "with open('model.pkl', 'wb') as f:\n",
    "    pickle.dump(model, f)"
   ],
   "metadata": {
    "collapsed": false,
    "ExecuteTime": {
     "end_time": "2023-05-02T01:47:55.120710200Z",
     "start_time": "2023-05-02T01:47:55.105087200Z"
    }
   }
  },
  {
   "cell_type": "markdown",
   "source": [
    " 현재 디렉토리에 model.pkl 파일이 생성되며, 학습한 모델이 이 파일에 저장. 모델을 로드하려면, pickle.load() 함수를 사용하여 파일에서 모델 객체를 읽어온다."
   ],
   "metadata": {
    "collapsed": false
   }
  },
  {
   "cell_type": "code",
   "execution_count": 4,
   "outputs": [],
   "source": [
    "with open('model.pkl', 'rb') as f:\n",
    "    model = pickle.load(f)\n"
   ],
   "metadata": {
    "collapsed": false,
    "ExecuteTime": {
     "end_time": "2023-05-02T01:48:46.045543100Z",
     "start_time": "2023-05-02T01:48:46.029894300Z"
    }
   }
  },
  {
   "cell_type": "markdown",
   "source": [
    "model.pkl 파일에서 모델 객체가 읽어와져 model 변수에 저장됩니다. 이후로는 이 객체를 사용하여 예측을 수행"
   ],
   "metadata": {
    "collapsed": false
   }
  },
  {
   "cell_type": "code",
   "execution_count": null,
   "outputs": [],
   "source": [],
   "metadata": {
    "collapsed": false
   }
  }
 ],
 "metadata": {
  "kernelspec": {
   "display_name": "Python 3",
   "language": "python",
   "name": "python3"
  },
  "language_info": {
   "codemirror_mode": {
    "name": "ipython",
    "version": 2
   },
   "file_extension": ".py",
   "mimetype": "text/x-python",
   "name": "python",
   "nbconvert_exporter": "python",
   "pygments_lexer": "ipython2",
   "version": "2.7.6"
  }
 },
 "nbformat": 4,
 "nbformat_minor": 0
}
